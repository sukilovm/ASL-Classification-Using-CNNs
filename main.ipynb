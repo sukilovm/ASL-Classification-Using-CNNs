{
 "cells": [
  {
   "cell_type": "code",
   "execution_count": 53,
   "outputs": [],
   "source": [
    "import matplotlib.image as mplimg\n",
    "import matplotlib.pyplot as plt\n",
    "import pandas as pd\n",
    "import numpy as np\n",
    "import seaborn as sns"
   ],
   "metadata": {
    "collapsed": false,
    "pycharm": {
     "name": "#%%\n"
    }
   }
  },
  {
   "cell_type": "code",
   "execution_count": null,
   "outputs": [],
   "source": [
    "img = mplimg.imread('dataset/amer_sign2.png')\n",
    "img_plot = plt.imshow(img)\n",
    "plt.show()"
   ],
   "metadata": {
    "collapsed": false,
    "pycharm": {
     "name": "#%%\n"
    }
   }
  },
  {
   "cell_type": "code",
   "execution_count": 25,
   "metadata": {
    "pycharm": {
     "name": "#%%\n"
    }
   },
   "outputs": [],
   "source": [
    "# import os\n",
    "# for dirname, _, filenames in os.walk('sign_language_mnist'):\n",
    "#     for filename in filenames:\n",
    "#         print(os.path.join(dirname, filename))"
   ]
  },
  {
   "cell_type": "code",
   "execution_count": 26,
   "metadata": {
    "pycharm": {
     "name": "#%%\n"
    }
   },
   "outputs": [],
   "source": [
    "# load data\n",
    "train_data = pd.read_csv('dataset/sign_mnist_train.csv')\n",
    "test_data = pd.read_csv('dataset/sign_mnist_test.csv')"
   ]
  },
  {
   "cell_type": "code",
   "execution_count": 27,
   "outputs": [
    {
     "data": {
      "text/plain": "   label  pixel1  pixel2  pixel3  pixel4  pixel5  pixel6  pixel7  pixel8  \\\n0      3     107     118     127     134     139     143     146     150   \n1      6     155     157     156     156     156     157     156     158   \n2      2     187     188     188     187     187     186     187     188   \n\n   pixel9  ...  pixel775  pixel776  pixel777  pixel778  pixel779  pixel780  \\\n0     153  ...       207       207       207       207       206       206   \n1     158  ...        69       149       128        87        94       163   \n2     187  ...       202       201       200       199       198       199   \n\n   pixel781  pixel782  pixel783  pixel784  \n0       206       204       203       202  \n1       175       103       135       149  \n2       198       195       194       195  \n\n[3 rows x 785 columns]",
      "text/html": "<div>\n<style scoped>\n    .dataframe tbody tr th:only-of-type {\n        vertical-align: middle;\n    }\n\n    .dataframe tbody tr th {\n        vertical-align: top;\n    }\n\n    .dataframe thead th {\n        text-align: right;\n    }\n</style>\n<table border=\"1\" class=\"dataframe\">\n  <thead>\n    <tr style=\"text-align: right;\">\n      <th></th>\n      <th>label</th>\n      <th>pixel1</th>\n      <th>pixel2</th>\n      <th>pixel3</th>\n      <th>pixel4</th>\n      <th>pixel5</th>\n      <th>pixel6</th>\n      <th>pixel7</th>\n      <th>pixel8</th>\n      <th>pixel9</th>\n      <th>...</th>\n      <th>pixel775</th>\n      <th>pixel776</th>\n      <th>pixel777</th>\n      <th>pixel778</th>\n      <th>pixel779</th>\n      <th>pixel780</th>\n      <th>pixel781</th>\n      <th>pixel782</th>\n      <th>pixel783</th>\n      <th>pixel784</th>\n    </tr>\n  </thead>\n  <tbody>\n    <tr>\n      <th>0</th>\n      <td>3</td>\n      <td>107</td>\n      <td>118</td>\n      <td>127</td>\n      <td>134</td>\n      <td>139</td>\n      <td>143</td>\n      <td>146</td>\n      <td>150</td>\n      <td>153</td>\n      <td>...</td>\n      <td>207</td>\n      <td>207</td>\n      <td>207</td>\n      <td>207</td>\n      <td>206</td>\n      <td>206</td>\n      <td>206</td>\n      <td>204</td>\n      <td>203</td>\n      <td>202</td>\n    </tr>\n    <tr>\n      <th>1</th>\n      <td>6</td>\n      <td>155</td>\n      <td>157</td>\n      <td>156</td>\n      <td>156</td>\n      <td>156</td>\n      <td>157</td>\n      <td>156</td>\n      <td>158</td>\n      <td>158</td>\n      <td>...</td>\n      <td>69</td>\n      <td>149</td>\n      <td>128</td>\n      <td>87</td>\n      <td>94</td>\n      <td>163</td>\n      <td>175</td>\n      <td>103</td>\n      <td>135</td>\n      <td>149</td>\n    </tr>\n    <tr>\n      <th>2</th>\n      <td>2</td>\n      <td>187</td>\n      <td>188</td>\n      <td>188</td>\n      <td>187</td>\n      <td>187</td>\n      <td>186</td>\n      <td>187</td>\n      <td>188</td>\n      <td>187</td>\n      <td>...</td>\n      <td>202</td>\n      <td>201</td>\n      <td>200</td>\n      <td>199</td>\n      <td>198</td>\n      <td>199</td>\n      <td>198</td>\n      <td>195</td>\n      <td>194</td>\n      <td>195</td>\n    </tr>\n  </tbody>\n</table>\n<p>3 rows × 785 columns</p>\n</div>"
     },
     "execution_count": 27,
     "metadata": {},
     "output_type": "execute_result"
    }
   ],
   "source": [
    "# get familiar with data\n",
    "train_data.head(3)"
   ],
   "metadata": {
    "collapsed": false,
    "pycharm": {
     "name": "#%%\n"
    }
   }
  },
  {
   "cell_type": "code",
   "execution_count": 28,
   "outputs": [
    {
     "data": {
      "text/plain": "   label  pixel1  pixel2  pixel3  pixel4  pixel5  pixel6  pixel7  pixel8  \\\n0      6     149     149     150     150     150     151     151     150   \n1      5     126     128     131     132     133     134     135     135   \n2     10      85      88      92      96     105     123     135     143   \n\n   pixel9  ...  pixel775  pixel776  pixel777  pixel778  pixel779  pixel780  \\\n0     151  ...       138       148       127        89        82        96   \n1     136  ...        47       104       194       183       186       184   \n2     147  ...        68       166       242       227       230       227   \n\n   pixel781  pixel782  pixel783  pixel784  \n0       106       112       120       107  \n1       184       184       182       180  \n2       226       225       224       222  \n\n[3 rows x 785 columns]",
      "text/html": "<div>\n<style scoped>\n    .dataframe tbody tr th:only-of-type {\n        vertical-align: middle;\n    }\n\n    .dataframe tbody tr th {\n        vertical-align: top;\n    }\n\n    .dataframe thead th {\n        text-align: right;\n    }\n</style>\n<table border=\"1\" class=\"dataframe\">\n  <thead>\n    <tr style=\"text-align: right;\">\n      <th></th>\n      <th>label</th>\n      <th>pixel1</th>\n      <th>pixel2</th>\n      <th>pixel3</th>\n      <th>pixel4</th>\n      <th>pixel5</th>\n      <th>pixel6</th>\n      <th>pixel7</th>\n      <th>pixel8</th>\n      <th>pixel9</th>\n      <th>...</th>\n      <th>pixel775</th>\n      <th>pixel776</th>\n      <th>pixel777</th>\n      <th>pixel778</th>\n      <th>pixel779</th>\n      <th>pixel780</th>\n      <th>pixel781</th>\n      <th>pixel782</th>\n      <th>pixel783</th>\n      <th>pixel784</th>\n    </tr>\n  </thead>\n  <tbody>\n    <tr>\n      <th>0</th>\n      <td>6</td>\n      <td>149</td>\n      <td>149</td>\n      <td>150</td>\n      <td>150</td>\n      <td>150</td>\n      <td>151</td>\n      <td>151</td>\n      <td>150</td>\n      <td>151</td>\n      <td>...</td>\n      <td>138</td>\n      <td>148</td>\n      <td>127</td>\n      <td>89</td>\n      <td>82</td>\n      <td>96</td>\n      <td>106</td>\n      <td>112</td>\n      <td>120</td>\n      <td>107</td>\n    </tr>\n    <tr>\n      <th>1</th>\n      <td>5</td>\n      <td>126</td>\n      <td>128</td>\n      <td>131</td>\n      <td>132</td>\n      <td>133</td>\n      <td>134</td>\n      <td>135</td>\n      <td>135</td>\n      <td>136</td>\n      <td>...</td>\n      <td>47</td>\n      <td>104</td>\n      <td>194</td>\n      <td>183</td>\n      <td>186</td>\n      <td>184</td>\n      <td>184</td>\n      <td>184</td>\n      <td>182</td>\n      <td>180</td>\n    </tr>\n    <tr>\n      <th>2</th>\n      <td>10</td>\n      <td>85</td>\n      <td>88</td>\n      <td>92</td>\n      <td>96</td>\n      <td>105</td>\n      <td>123</td>\n      <td>135</td>\n      <td>143</td>\n      <td>147</td>\n      <td>...</td>\n      <td>68</td>\n      <td>166</td>\n      <td>242</td>\n      <td>227</td>\n      <td>230</td>\n      <td>227</td>\n      <td>226</td>\n      <td>225</td>\n      <td>224</td>\n      <td>222</td>\n    </tr>\n  </tbody>\n</table>\n<p>3 rows × 785 columns</p>\n</div>"
     },
     "execution_count": 28,
     "metadata": {},
     "output_type": "execute_result"
    }
   ],
   "source": [
    "test_data.head(3)"
   ],
   "metadata": {
    "collapsed": false,
    "pycharm": {
     "name": "#%%\n"
    }
   }
  },
  {
   "cell_type": "code",
   "execution_count": 29,
   "outputs": [
    {
     "name": "stdout",
     "output_type": "stream",
     "text": [
      "<class 'pandas.core.frame.DataFrame'>\n",
      "RangeIndex: 27455 entries, 0 to 27454\n",
      "Columns: 785 entries, label to pixel784\n",
      "dtypes: int64(785)\n",
      "memory usage: 164.4 MB\n"
     ]
    }
   ],
   "source": [
    "train_data.info()"
   ],
   "metadata": {
    "collapsed": false,
    "pycharm": {
     "name": "#%%\n"
    }
   }
  },
  {
   "cell_type": "code",
   "execution_count": 30,
   "outputs": [
    {
     "name": "stdout",
     "output_type": "stream",
     "text": [
      "<class 'pandas.core.frame.DataFrame'>\n",
      "RangeIndex: 7172 entries, 0 to 7171\n",
      "Columns: 785 entries, label to pixel784\n",
      "dtypes: int64(785)\n",
      "memory usage: 43.0 MB\n"
     ]
    }
   ],
   "source": [
    "test_data.info()"
   ],
   "metadata": {
    "collapsed": false,
    "pycharm": {
     "name": "#%%\n"
    }
   }
  },
  {
   "cell_type": "code",
   "execution_count": 37,
   "outputs": [
    {
     "data": {
      "text/plain": "              label        pixel1        pixel2        pixel3        pixel4  \\\ncount  27455.000000  27455.000000  27455.000000  27455.000000  27455.000000   \nmean      12.318813    145.419377    148.500273    151.247714    153.546531   \nstd        7.287552     41.358555     39.942152     39.056286     38.595247   \nmin        0.000000      0.000000      0.000000      0.000000      0.000000   \n50%       13.000000    150.000000    153.000000    156.000000    158.000000   \nmax       24.000000    255.000000    255.000000    255.000000    255.000000   \n\n             pixel5        pixel6        pixel7        pixel8        pixel9  \\\ncount  27455.000000  27455.000000  27455.000000  27455.000000  27455.000000   \nmean     156.210891    158.411255    160.472154    162.339683    163.954799   \nstd       37.111165     36.125579     35.016392     33.661998     32.651607   \nmin        0.000000      0.000000      0.000000      0.000000      0.000000   \n50%      160.000000    162.000000    164.000000    165.000000    166.000000   \nmax      255.000000    255.000000    255.000000    255.000000    255.000000   \n\n       ...      pixel775      pixel776      pixel777      pixel778  \\\ncount  ...  27455.000000  27455.000000  27455.000000  27455.000000   \nmean   ...    141.104863    147.495611    153.325806    159.125332   \nstd    ...     63.751194     65.512894     64.427412     63.708507   \nmin    ...      0.000000      0.000000      0.000000      0.000000   \n50%    ...    144.000000    162.000000    172.000000    180.000000   \nmax    ...    255.000000    255.000000    255.000000    255.000000   \n\n           pixel779      pixel780      pixel781      pixel782      pixel783  \\\ncount  27455.000000  27455.000000  27455.000000  27455.000000  27455.000000   \nmean     161.969259    162.736696    162.906137    161.966454    161.137898   \nstd       63.738316     63.444008     63.509210     63.298721     63.610415   \nmin        0.000000      0.000000      0.000000      0.000000      0.000000   \n50%      183.000000    184.000000    184.000000    182.000000    182.000000   \nmax      255.000000    255.000000    255.000000    255.000000    255.000000   \n\n           pixel784  \ncount  27455.000000  \nmean     159.824731  \nstd       64.396846  \nmin        0.000000  \n50%      182.000000  \nmax      255.000000  \n\n[6 rows x 785 columns]",
      "text/html": "<div>\n<style scoped>\n    .dataframe tbody tr th:only-of-type {\n        vertical-align: middle;\n    }\n\n    .dataframe tbody tr th {\n        vertical-align: top;\n    }\n\n    .dataframe thead th {\n        text-align: right;\n    }\n</style>\n<table border=\"1\" class=\"dataframe\">\n  <thead>\n    <tr style=\"text-align: right;\">\n      <th></th>\n      <th>label</th>\n      <th>pixel1</th>\n      <th>pixel2</th>\n      <th>pixel3</th>\n      <th>pixel4</th>\n      <th>pixel5</th>\n      <th>pixel6</th>\n      <th>pixel7</th>\n      <th>pixel8</th>\n      <th>pixel9</th>\n      <th>...</th>\n      <th>pixel775</th>\n      <th>pixel776</th>\n      <th>pixel777</th>\n      <th>pixel778</th>\n      <th>pixel779</th>\n      <th>pixel780</th>\n      <th>pixel781</th>\n      <th>pixel782</th>\n      <th>pixel783</th>\n      <th>pixel784</th>\n    </tr>\n  </thead>\n  <tbody>\n    <tr>\n      <th>count</th>\n      <td>27455.000000</td>\n      <td>27455.000000</td>\n      <td>27455.000000</td>\n      <td>27455.000000</td>\n      <td>27455.000000</td>\n      <td>27455.000000</td>\n      <td>27455.000000</td>\n      <td>27455.000000</td>\n      <td>27455.000000</td>\n      <td>27455.000000</td>\n      <td>...</td>\n      <td>27455.000000</td>\n      <td>27455.000000</td>\n      <td>27455.000000</td>\n      <td>27455.000000</td>\n      <td>27455.000000</td>\n      <td>27455.000000</td>\n      <td>27455.000000</td>\n      <td>27455.000000</td>\n      <td>27455.000000</td>\n      <td>27455.000000</td>\n    </tr>\n    <tr>\n      <th>mean</th>\n      <td>12.318813</td>\n      <td>145.419377</td>\n      <td>148.500273</td>\n      <td>151.247714</td>\n      <td>153.546531</td>\n      <td>156.210891</td>\n      <td>158.411255</td>\n      <td>160.472154</td>\n      <td>162.339683</td>\n      <td>163.954799</td>\n      <td>...</td>\n      <td>141.104863</td>\n      <td>147.495611</td>\n      <td>153.325806</td>\n      <td>159.125332</td>\n      <td>161.969259</td>\n      <td>162.736696</td>\n      <td>162.906137</td>\n      <td>161.966454</td>\n      <td>161.137898</td>\n      <td>159.824731</td>\n    </tr>\n    <tr>\n      <th>std</th>\n      <td>7.287552</td>\n      <td>41.358555</td>\n      <td>39.942152</td>\n      <td>39.056286</td>\n      <td>38.595247</td>\n      <td>37.111165</td>\n      <td>36.125579</td>\n      <td>35.016392</td>\n      <td>33.661998</td>\n      <td>32.651607</td>\n      <td>...</td>\n      <td>63.751194</td>\n      <td>65.512894</td>\n      <td>64.427412</td>\n      <td>63.708507</td>\n      <td>63.738316</td>\n      <td>63.444008</td>\n      <td>63.509210</td>\n      <td>63.298721</td>\n      <td>63.610415</td>\n      <td>64.396846</td>\n    </tr>\n    <tr>\n      <th>min</th>\n      <td>0.000000</td>\n      <td>0.000000</td>\n      <td>0.000000</td>\n      <td>0.000000</td>\n      <td>0.000000</td>\n      <td>0.000000</td>\n      <td>0.000000</td>\n      <td>0.000000</td>\n      <td>0.000000</td>\n      <td>0.000000</td>\n      <td>...</td>\n      <td>0.000000</td>\n      <td>0.000000</td>\n      <td>0.000000</td>\n      <td>0.000000</td>\n      <td>0.000000</td>\n      <td>0.000000</td>\n      <td>0.000000</td>\n      <td>0.000000</td>\n      <td>0.000000</td>\n      <td>0.000000</td>\n    </tr>\n    <tr>\n      <th>50%</th>\n      <td>13.000000</td>\n      <td>150.000000</td>\n      <td>153.000000</td>\n      <td>156.000000</td>\n      <td>158.000000</td>\n      <td>160.000000</td>\n      <td>162.000000</td>\n      <td>164.000000</td>\n      <td>165.000000</td>\n      <td>166.000000</td>\n      <td>...</td>\n      <td>144.000000</td>\n      <td>162.000000</td>\n      <td>172.000000</td>\n      <td>180.000000</td>\n      <td>183.000000</td>\n      <td>184.000000</td>\n      <td>184.000000</td>\n      <td>182.000000</td>\n      <td>182.000000</td>\n      <td>182.000000</td>\n    </tr>\n    <tr>\n      <th>max</th>\n      <td>24.000000</td>\n      <td>255.000000</td>\n      <td>255.000000</td>\n      <td>255.000000</td>\n      <td>255.000000</td>\n      <td>255.000000</td>\n      <td>255.000000</td>\n      <td>255.000000</td>\n      <td>255.000000</td>\n      <td>255.000000</td>\n      <td>...</td>\n      <td>255.000000</td>\n      <td>255.000000</td>\n      <td>255.000000</td>\n      <td>255.000000</td>\n      <td>255.000000</td>\n      <td>255.000000</td>\n      <td>255.000000</td>\n      <td>255.000000</td>\n      <td>255.000000</td>\n      <td>255.000000</td>\n    </tr>\n  </tbody>\n</table>\n<p>6 rows × 785 columns</p>\n</div>"
     },
     "execution_count": 37,
     "metadata": {},
     "output_type": "execute_result"
    }
   ],
   "source": [
    "train_data.describe(percentiles=[])"
   ],
   "metadata": {
    "collapsed": false,
    "pycharm": {
     "name": "#%%\n"
    }
   }
  },
  {
   "cell_type": "code",
   "execution_count": 38,
   "outputs": [
    {
     "data": {
      "text/plain": "             label       pixel1       pixel2       pixel3       pixel4  \\\ncount  7172.000000  7172.000000  7172.000000  7172.000000  7172.000000   \nmean     11.247351   147.532627   150.445761   153.324317   155.663413   \nstd       7.446712    43.593144    41.867838    40.442728    39.354776   \nmin       0.000000     0.000000     0.000000     0.000000     0.000000   \n50%      11.000000   154.000000   157.000000   159.000000   161.000000   \nmax      24.000000   255.000000   255.000000   255.000000   255.000000   \n\n            pixel5       pixel6       pixel7       pixel8       pixel9  ...  \\\ncount  7172.000000  7172.000000  7172.000000  7172.000000  7172.000000  ...   \nmean    158.169688   160.790853   162.282766   163.649191   165.589515  ...   \nstd      37.749637    36.090916    36.212636    35.885378    33.721876  ...   \nmin       0.000000    10.000000     0.000000     0.000000     0.000000  ...   \n50%     163.000000   165.000000   166.000000   168.000000   169.000000  ...   \nmax     255.000000   255.000000   255.000000   255.000000   255.000000  ...   \n\n          pixel775     pixel776     pixel777     pixel778     pixel779  \\\ncount  7172.000000  7172.000000  7172.000000  7172.000000  7172.000000   \nmean    138.546570   145.539598   150.744980   155.638873   158.893196   \nstd      64.501665    65.132370    65.760539    65.565147    65.200300   \nmin       0.000000     0.000000     0.000000     0.000000     0.000000   \n50%     137.000000   155.000000   168.000000   177.000000   181.000000   \nmax     255.000000   255.000000   255.000000   255.000000   255.000000   \n\n          pixel780     pixel781     pixel782     pixel783     pixel784  \ncount  7172.000000  7172.000000  7172.000000  7172.000000  7172.000000  \nmean    159.648494   158.162019   157.672755   156.664250   154.776771  \nstd      65.499368    66.493576    66.009690    67.202939    68.285148  \nmin       0.000000     0.000000     0.000000     0.000000     0.000000  \n50%     182.000000   181.000000   180.000000   180.000000   179.000000  \nmax     255.000000   255.000000   255.000000   255.000000   255.000000  \n\n[6 rows x 785 columns]",
      "text/html": "<div>\n<style scoped>\n    .dataframe tbody tr th:only-of-type {\n        vertical-align: middle;\n    }\n\n    .dataframe tbody tr th {\n        vertical-align: top;\n    }\n\n    .dataframe thead th {\n        text-align: right;\n    }\n</style>\n<table border=\"1\" class=\"dataframe\">\n  <thead>\n    <tr style=\"text-align: right;\">\n      <th></th>\n      <th>label</th>\n      <th>pixel1</th>\n      <th>pixel2</th>\n      <th>pixel3</th>\n      <th>pixel4</th>\n      <th>pixel5</th>\n      <th>pixel6</th>\n      <th>pixel7</th>\n      <th>pixel8</th>\n      <th>pixel9</th>\n      <th>...</th>\n      <th>pixel775</th>\n      <th>pixel776</th>\n      <th>pixel777</th>\n      <th>pixel778</th>\n      <th>pixel779</th>\n      <th>pixel780</th>\n      <th>pixel781</th>\n      <th>pixel782</th>\n      <th>pixel783</th>\n      <th>pixel784</th>\n    </tr>\n  </thead>\n  <tbody>\n    <tr>\n      <th>count</th>\n      <td>7172.000000</td>\n      <td>7172.000000</td>\n      <td>7172.000000</td>\n      <td>7172.000000</td>\n      <td>7172.000000</td>\n      <td>7172.000000</td>\n      <td>7172.000000</td>\n      <td>7172.000000</td>\n      <td>7172.000000</td>\n      <td>7172.000000</td>\n      <td>...</td>\n      <td>7172.000000</td>\n      <td>7172.000000</td>\n      <td>7172.000000</td>\n      <td>7172.000000</td>\n      <td>7172.000000</td>\n      <td>7172.000000</td>\n      <td>7172.000000</td>\n      <td>7172.000000</td>\n      <td>7172.000000</td>\n      <td>7172.000000</td>\n    </tr>\n    <tr>\n      <th>mean</th>\n      <td>11.247351</td>\n      <td>147.532627</td>\n      <td>150.445761</td>\n      <td>153.324317</td>\n      <td>155.663413</td>\n      <td>158.169688</td>\n      <td>160.790853</td>\n      <td>162.282766</td>\n      <td>163.649191</td>\n      <td>165.589515</td>\n      <td>...</td>\n      <td>138.546570</td>\n      <td>145.539598</td>\n      <td>150.744980</td>\n      <td>155.638873</td>\n      <td>158.893196</td>\n      <td>159.648494</td>\n      <td>158.162019</td>\n      <td>157.672755</td>\n      <td>156.664250</td>\n      <td>154.776771</td>\n    </tr>\n    <tr>\n      <th>std</th>\n      <td>7.446712</td>\n      <td>43.593144</td>\n      <td>41.867838</td>\n      <td>40.442728</td>\n      <td>39.354776</td>\n      <td>37.749637</td>\n      <td>36.090916</td>\n      <td>36.212636</td>\n      <td>35.885378</td>\n      <td>33.721876</td>\n      <td>...</td>\n      <td>64.501665</td>\n      <td>65.132370</td>\n      <td>65.760539</td>\n      <td>65.565147</td>\n      <td>65.200300</td>\n      <td>65.499368</td>\n      <td>66.493576</td>\n      <td>66.009690</td>\n      <td>67.202939</td>\n      <td>68.285148</td>\n    </tr>\n    <tr>\n      <th>min</th>\n      <td>0.000000</td>\n      <td>0.000000</td>\n      <td>0.000000</td>\n      <td>0.000000</td>\n      <td>0.000000</td>\n      <td>0.000000</td>\n      <td>10.000000</td>\n      <td>0.000000</td>\n      <td>0.000000</td>\n      <td>0.000000</td>\n      <td>...</td>\n      <td>0.000000</td>\n      <td>0.000000</td>\n      <td>0.000000</td>\n      <td>0.000000</td>\n      <td>0.000000</td>\n      <td>0.000000</td>\n      <td>0.000000</td>\n      <td>0.000000</td>\n      <td>0.000000</td>\n      <td>0.000000</td>\n    </tr>\n    <tr>\n      <th>50%</th>\n      <td>11.000000</td>\n      <td>154.000000</td>\n      <td>157.000000</td>\n      <td>159.000000</td>\n      <td>161.000000</td>\n      <td>163.000000</td>\n      <td>165.000000</td>\n      <td>166.000000</td>\n      <td>168.000000</td>\n      <td>169.000000</td>\n      <td>...</td>\n      <td>137.000000</td>\n      <td>155.000000</td>\n      <td>168.000000</td>\n      <td>177.000000</td>\n      <td>181.000000</td>\n      <td>182.000000</td>\n      <td>181.000000</td>\n      <td>180.000000</td>\n      <td>180.000000</td>\n      <td>179.000000</td>\n    </tr>\n    <tr>\n      <th>max</th>\n      <td>24.000000</td>\n      <td>255.000000</td>\n      <td>255.000000</td>\n      <td>255.000000</td>\n      <td>255.000000</td>\n      <td>255.000000</td>\n      <td>255.000000</td>\n      <td>255.000000</td>\n      <td>255.000000</td>\n      <td>255.000000</td>\n      <td>...</td>\n      <td>255.000000</td>\n      <td>255.000000</td>\n      <td>255.000000</td>\n      <td>255.000000</td>\n      <td>255.000000</td>\n      <td>255.000000</td>\n      <td>255.000000</td>\n      <td>255.000000</td>\n      <td>255.000000</td>\n      <td>255.000000</td>\n    </tr>\n  </tbody>\n</table>\n<p>6 rows × 785 columns</p>\n</div>"
     },
     "execution_count": 38,
     "metadata": {},
     "output_type": "execute_result"
    }
   ],
   "source": [
    "test_data.describe(percentiles=[])"
   ],
   "metadata": {
    "collapsed": false,
    "pycharm": {
     "name": "#%%\n"
    }
   }
  },
  {
   "cell_type": "code",
   "execution_count": 39,
   "outputs": [
    {
     "data": {
      "text/plain": "(27455, 785)"
     },
     "execution_count": 39,
     "metadata": {},
     "output_type": "execute_result"
    }
   ],
   "source": [
    "train_data.shape"
   ],
   "metadata": {
    "collapsed": false,
    "pycharm": {
     "name": "#%%\n"
    }
   }
  },
  {
   "cell_type": "code",
   "execution_count": 40,
   "outputs": [
    {
     "data": {
      "text/plain": "(7172, 785)"
     },
     "execution_count": 40,
     "metadata": {},
     "output_type": "execute_result"
    }
   ],
   "source": [
    "test_data.shape"
   ],
   "metadata": {
    "collapsed": false,
    "pycharm": {
     "name": "#%%\n"
    }
   }
  },
  {
   "cell_type": "code",
   "execution_count": 69,
   "outputs": [],
   "source": [
    "train_labels = train_data['label'].values"
   ],
   "metadata": {
    "collapsed": false,
    "pycharm": {
     "name": "#%%\n"
    }
   }
  },
  {
   "cell_type": "code",
   "execution_count": 70,
   "outputs": [
    {
     "data": {
      "text/plain": "<AxesSubplot:ylabel='count'>"
     },
     "execution_count": 70,
     "metadata": {},
     "output_type": "execute_result"
    },
    {
     "data": {
      "text/plain": "<Figure size 1728x720 with 1 Axes>",
      "image/png": "[encoded data removed]"
     },
     "metadata": {},
     "output_type": "display_data"
    }
   ],
   "source": [
    "plt.figure(figsize=(24,10))\n",
    "sns.countplot(x=train_labels)"
   ],
   "metadata": {
    "collapsed": false,
    "pycharm": {
     "name": "#%%\n"
    }
   }
  },
  {
   "cell_type": "code",
   "execution_count": 50,
   "outputs": [
    {
     "data": {
      "text/plain": "array([ 0,  1,  2,  3,  4,  5,  6,  7,  8, 10, 11, 12, 13, 14, 15, 16, 17,\n       18, 19, 20, 21, 22, 23, 24])"
     },
     "execution_count": 50,
     "metadata": {},
     "output_type": "execute_result"
    }
   ],
   "source": [
    "unique_val = np.array(train_labels)\n",
    "np.unique(unique_val)"
   ],
   "metadata": {
    "collapsed": false,
    "pycharm": {
     "name": "#%%\n"
    }
   }
  },
  {
   "cell_type": "code",
   "execution_count": null,
   "metadata": {
    "pycharm": {
     "name": "#%%\n"
    }
   },
   "outputs": [],
   "source": [
    "# drop the 'label' column\n",
    "train_data.drop('label', axis = 1, inplace = True)"
   ]
  }
 ],
 "metadata": {
  "kernelspec": {
   "display_name": "Python 3",
   "language": "python",
   "name": "python3"
  },
  "language_info": {
   "codemirror_mode": {
    "name": "ipython",
    "version": 3
   },
   "file_extension": ".py",
   "mimetype": "text/x-python",
   "name": "python",
   "nbconvert_exporter": "python",
   "pygments_lexer": "ipython3",
   "version": "3.8.5"
  }
 },
 "nbformat": 4,
 "nbformat_minor": 1
}